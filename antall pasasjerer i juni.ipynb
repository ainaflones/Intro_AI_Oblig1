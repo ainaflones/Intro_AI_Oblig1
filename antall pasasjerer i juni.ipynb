{
 "cells": [
  {
   "cell_type": "code",
   "execution_count": 41,
   "metadata": {},
   "outputs": [
    {
     "data": {
      "text/plain": [
       "pandas.core.frame.DataFrame"
      ]
     },
     "execution_count": 41,
     "metadata": {},
     "output_type": "execute_result"
    }
   ],
   "source": [
    "import pandas as pd\n",
    "from matplotlib import pyplot as plt\n",
    "%matplotlib inline\n",
    "\n",
    "dataframe = pd.read_csv(\"Ruter_data.csv\", sep=\";\")\n",
    "#print(dataframe.head())\n",
    "\n",
    "#plt.title(\"\")\n",
    "dataframe.sort_values(by=\"Dato\", inplace=True)\n",
    "\n",
    "type(dataframe)"
   ]
  },
  {
   "cell_type": "code",
   "execution_count": 109,
   "metadata": {
    "scrolled": true
   },
   "outputs": [
    {
     "data": {
      "text/plain": [
       "<BarContainer object of 30 artists>"
      ]
     },
     "execution_count": 109,
     "metadata": {},
     "output_type": "execute_result"
    },
    {
     "data": {
      "image/png": "[encoded data removed]",
      "text/plain": [
       "<Figure size 432x288 with 1 Axes>"
      ]
     },
     "metadata": {
      "needs_background": "light"
     },
     "output_type": "display_data"
    }
   ],
   "source": [
    "\n",
    "l= list(set(dataframe.Dato))\n",
    "datoer_juni=[e for e in l if e[4]==\"6\"]\n",
    "datoer_juni.sort()\n",
    "datoer_juni\n",
    "\n",
    "tellinger=[]\n",
    "temp=0\n",
    "    \n",
    "i=0\n",
    "#løkke for å telle antall pasasjerer i hver dag i juni\n",
    "for dato in datoer_juni:\n",
    "    \n",
    "    while dato == dataframe.Dato[i]:\n",
    "            if dataframe.Passasjerer_Ombord[i]>0:  #slette outliers altså verdier som er under 0\n",
    "                temp+=dataframe.Passasjerer_Ombord[i]\n",
    "            i+=1\n",
    "           \n",
    "    tellinger.append(temp)\n",
    "    temp=0\n",
    "\n",
    "plt.title(\"oversikt over antall pasasjerer i juni\")    \n",
    "plt.xlabel('datorer - fra 1.juni til 30.juni', fontsize=14, color='r')\n",
    "\n",
    "plt.ylabel(\"antall pasasjerer pr dato\", fontsize=14,color='r')  \n",
    "\n",
    "l=[x for x in range(len(datoer_juni)+1) if x>0]\n",
    "\n",
    "plt.bar(l,tellinger)\n",
    "\n",
    "\n"
   ]
  },
  {
   "cell_type": "code",
   "execution_count": null,
   "metadata": {},
   "outputs": [],
   "source": []
  },
  {
   "cell_type": "code",
   "execution_count": null,
   "metadata": {},
   "outputs": [],
   "source": []
  },
  {
   "cell_type": "code",
   "execution_count": null,
   "metadata": {},
   "outputs": [],
   "source": []
  },
  {
   "cell_type": "code",
   "execution_count": null,
   "metadata": {},
   "outputs": [],
   "source": []
  },
  {
   "cell_type": "code",
   "execution_count": null,
   "metadata": {},
   "outputs": [],
   "source": []
  },
  {
   "cell_type": "code",
   "execution_count": null,
   "metadata": {},
   "outputs": [],
   "source": []
  },
  {
   "cell_type": "code",
   "execution_count": null,
   "metadata": {},
   "outputs": [],
   "source": []
  }
 ],
 "metadata": {
  "kernelspec": {
   "display_name": "Python 3",
   "language": "python",
   "name": "python3"
  },
  "language_info": {
   "codemirror_mode": {
    "name": "ipython",
    "version": 3
   },
   "file_extension": ".py",
   "mimetype": "text/x-python",
   "name": "python",
   "nbconvert_exporter": "python",
   "pygments_lexer": "ipython3",
   "version": "3.8.5"
  }
 },
 "nbformat": 4,
 "nbformat_minor": 4
}
