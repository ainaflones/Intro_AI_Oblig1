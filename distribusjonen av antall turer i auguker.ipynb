{
 "cells": [
  {
   "cell_type": "code",
   "execution_count": 9,
   "metadata": {
    "scrolled": true
   },
   "outputs": [
    {
     "name": "stderr",
     "output_type": "stream",
     "text": [
      "<ipython-input-9-e64a38b927be>:16: MatplotlibDeprecationWarning: Case-insensitive properties were deprecated in 3.3 and support will be removed two minor releases later\n",
      "  plt.hist(turer,bins=4,Width=1 ) #4 uker\n"
     ]
    },
    {
     "data": {
      "text/plain": [
       "(array([586., 537., 606., 624.]),\n",
       " array([ 0.  ,  7.25, 14.5 , 21.75, 29.  ]),\n",
       " <BarContainer object of 4 artists>)"
      ]
     },
     "execution_count": 9,
     "metadata": {},
     "output_type": "execute_result"
    },
    {
     "data": {
      "image/png": "[encoded data removed]",
      "text/plain": [
       "<Figure size 432x288 with 1 Axes>"
      ]
     },
     "metadata": {
      "needs_background": "light"
     },
     "output_type": "display_data"
    }
   ],
   "source": [
    "import pandas as pd\n",
    "from matplotlib import pyplot as plt \n",
    "%matplotlib inline\n",
    "\n",
    "dataframe = pd.read_csv(\"Ruter_data.csv\", sep=\";\") #print(dataframe.head())\n",
    "\n",
    "#plt.title(\"\") dataframe.sort_values(by=\"Dato\", inplace=True) #sortere dataene basert på datoer binsListe=[1,30,61,92]\n",
    "\n",
    "turer= [e for e in dataframe[\"Dato\"] if e[4]==\"8\"] #samle datoer som tilhører til i august. \n",
    "#Merk hver forkomest til en dato representerer en tur\n",
    "\n",
    "plt.title(\"distribusjonen av antall turer i aug/uker\")\n",
    "plt.xlabel('uker i aug', fontsize=14, color='r')\n",
    "\n",
    "plt.ylabel(\"antall forekomster av turer\", fontsize=14,color='r')\n",
    "plt.hist(turer,bins=4,Width=1 ) #4 uker\n",
    "\n",
    "\n",
    "\n",
    "\n"
   ]
  },
  {
   "cell_type": "markdown",
   "metadata": {},
   "source": [
    "\n"
   ]
  },
  {
   "cell_type": "code",
   "execution_count": null,
   "metadata": {},
   "outputs": [],
   "source": []
  },
  {
   "cell_type": "code",
   "execution_count": null,
   "metadata": {},
   "outputs": [],
   "source": []
  },
  {
   "cell_type": "code",
   "execution_count": null,
   "metadata": {},
   "outputs": [],
   "source": []
  },
  {
   "cell_type": "code",
   "execution_count": null,
   "metadata": {},
   "outputs": [],
   "source": []
  },
  {
   "cell_type": "code",
   "execution_count": null,
   "metadata": {},
   "outputs": [],
   "source": []
  },
  {
   "cell_type": "code",
   "execution_count": null,
   "metadata": {},
   "outputs": [],
   "source": []
  },
  {
   "cell_type": "code",
   "execution_count": null,
   "metadata": {},
   "outputs": [],
   "source": []
  }
 ],
 "metadata": {
  "kernelspec": {
   "display_name": "Python 3",
   "language": "python",
   "name": "python3"
  },
  "language_info": {
   "codemirror_mode": {
    "name": "ipython",
    "version": 3
   },
   "file_extension": ".py",
   "mimetype": "text/x-python",
   "name": "python",
   "nbconvert_exporter": "python",
   "pygments_lexer": "ipython3",
   "version": "3.8.5"
  }
 },
 "nbformat": 4,
 "nbformat_minor": 4
}
